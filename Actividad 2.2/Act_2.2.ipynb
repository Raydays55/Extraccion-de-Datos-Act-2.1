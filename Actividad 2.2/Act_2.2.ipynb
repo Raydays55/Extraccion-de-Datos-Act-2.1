{
 "cells": [
  {
   "cell_type": "code",
   "execution_count": 1,
   "id": "a8eddbab",
   "metadata": {},
   "outputs": [],
   "source": [
    "#Importar librerías\n",
    "import numpy as np\n",
    "import pandas as pd\n",
    "import matplotlib.pyplot as plt"
   ]
  },
  {
   "cell_type": "code",
   "execution_count": 3,
   "id": "6a245b0d",
   "metadata": {},
   "outputs": [
    {
     "name": "stdout",
     "output_type": "stream",
     "text": [
      "<class 'pandas.core.frame.DataFrame'>\n",
      "RangeIndex: 14187 entries, 0 to 14186\n",
      "Data columns (total 79 columns):\n",
      " #   Column                                        Non-Null Count  Dtype  \n",
      "---  ------                                        --------------  -----  \n",
      " 0   id                                            14187 non-null  int64  \n",
      " 1   listing_url                                   14187 non-null  object \n",
      " 2   scrape_id                                     14187 non-null  int64  \n",
      " 3   last_scraped                                  14187 non-null  object \n",
      " 4   source                                        14187 non-null  object \n",
      " 5   name                                          14187 non-null  object \n",
      " 6   description                                   13584 non-null  object \n",
      " 7   neighborhood_overview                         6540 non-null   object \n",
      " 8   picture_url                                   14187 non-null  object \n",
      " 9   host_id                                       14187 non-null  int64  \n",
      " 10  host_url                                      14187 non-null  object \n",
      " 11  host_name                                     14174 non-null  object \n",
      " 12  host_since                                    14174 non-null  object \n",
      " 13  host_location                                 11217 non-null  object \n",
      " 14  host_about                                    7357 non-null   object \n",
      " 15  host_response_time                            9213 non-null   object \n",
      " 16  host_response_rate                            9213 non-null   object \n",
      " 17  host_acceptance_rate                          9829 non-null   object \n",
      " 18  host_is_superhost                             13976 non-null  object \n",
      " 19  host_thumbnail_url                            14174 non-null  object \n",
      " 20  host_picture_url                              14174 non-null  object \n",
      " 21  host_neighbourhood                            5907 non-null   object \n",
      " 22  host_listings_count                           14174 non-null  float64\n",
      " 23  host_total_listings_count                     14174 non-null  float64\n",
      " 24  host_verifications                            14174 non-null  object \n",
      " 25  host_has_profile_pic                          14174 non-null  object \n",
      " 26  host_identity_verified                        14174 non-null  object \n",
      " 27  neighbourhood                                 6540 non-null   object \n",
      " 28  neighbourhood_cleansed                        14187 non-null  object \n",
      " 29  neighbourhood_group_cleansed                  14187 non-null  object \n",
      " 30  latitude                                      14187 non-null  float64\n",
      " 31  longitude                                     14187 non-null  float64\n",
      " 32  property_type                                 14187 non-null  object \n",
      " 33  room_type                                     14187 non-null  object \n",
      " 34  accommodates                                  14187 non-null  int64  \n",
      " 35  bathrooms                                     9232 non-null   float64\n",
      " 36  bathrooms_text                                14180 non-null  object \n",
      " 37  bedrooms                                      12164 non-null  float64\n",
      " 38  beds                                          9184 non-null   float64\n",
      " 39  amenities                                     14187 non-null  object \n",
      " 40  price                                         9183 non-null   object \n",
      " 41  minimum_nights                                14187 non-null  int64  \n",
      " 42  maximum_nights                                14187 non-null  int64  \n",
      " 43  minimum_minimum_nights                        14187 non-null  int64  \n",
      " 44  maximum_minimum_nights                        14187 non-null  int64  \n",
      " 45  minimum_maximum_nights                        14187 non-null  int64  \n",
      " 46  maximum_maximum_nights                        14187 non-null  int64  \n",
      " 47  minimum_nights_avg_ntm                        14187 non-null  float64\n",
      " 48  maximum_nights_avg_ntm                        14187 non-null  float64\n",
      " 49  calendar_updated                              0 non-null      float64\n",
      " 50  has_availability                              13240 non-null  object \n",
      " 51  availability_30                               14187 non-null  int64  \n",
      " 52  availability_60                               14187 non-null  int64  \n",
      " 53  availability_90                               14187 non-null  int64  \n",
      " 54  availability_365                              14187 non-null  int64  \n",
      " 55  calendar_last_scraped                         14187 non-null  object \n",
      " 56  number_of_reviews                             14187 non-null  int64  \n",
      " 57  number_of_reviews_ltm                         14187 non-null  int64  \n",
      " 58  number_of_reviews_l30d                        14187 non-null  int64  \n",
      " 59  availability_eoy                              14187 non-null  int64  \n",
      " 60  number_of_reviews_ly                          14187 non-null  int64  \n",
      " 61  estimated_occupancy_l365d                     14187 non-null  int64  \n",
      " 62  estimated_revenue_l365d                       9183 non-null   float64\n",
      " 63  first_review                                  10838 non-null  object \n",
      " 64  last_review                                   10838 non-null  object \n",
      " 65  review_scores_rating                          10838 non-null  float64\n",
      " 66  review_scores_accuracy                        10836 non-null  float64\n",
      " 67  review_scores_cleanliness                     10838 non-null  float64\n",
      " 68  review_scores_checkin                         10835 non-null  float64\n",
      " 69  review_scores_communication                   10837 non-null  float64\n",
      " 70  review_scores_location                        10835 non-null  float64\n",
      " 71  review_scores_value                           10833 non-null  float64\n",
      " 72  license                                       5492 non-null   object \n",
      " 73  instant_bookable                              14187 non-null  object \n",
      " 74  calculated_host_listings_count                14187 non-null  int64  \n",
      " 75  calculated_host_listings_count_entire_homes   14187 non-null  int64  \n",
      " 76  calculated_host_listings_count_private_rooms  14187 non-null  int64  \n",
      " 77  calculated_host_listings_count_shared_rooms   14187 non-null  int64  \n",
      " 78  reviews_per_month                             10838 non-null  float64\n",
      "dtypes: float64(19), int64(24), object(36)\n",
      "memory usage: 8.6+ MB\n"
     ]
    }
   ],
   "source": [
    "#Descargar data frame\n",
    "df_berlin = pd.read_csv('Berlin.csv.gz')\n",
    "df_berlin.info()"
   ]
  },
  {
   "cell_type": "markdown",
   "id": "5a5ec05f",
   "metadata": {},
   "source": [
    "**Filtros a realizar**"
   ]
  },
  {
   "cell_type": "code",
   "execution_count": null,
   "id": "4347265e",
   "metadata": {},
   "outputs": [],
   "source": [
    "# Filtros\n",
    "\"\"\"\n",
    "a) Los registros de 5 “host name”  diferentes  \n",
    "b) Los registros de los host que se hallan unido a Airbnb “despues del año 2020”  \n",
    "c) Los registros de los host que responden “a más tardar en 1 día”  \n",
    "d) Los registros de las filas “Múltiplos de 200… (400, 600, 800, etc.)”  e) Los registros de los tipos de cuarto: “Entire home”  y “Private room”  \n",
    "f) Los registros que “a lo mucho cuenten con 4 camas”   \n",
    "g) Los registros que “sean superhost”  \n",
    "h) Los registros de las columnas “impares”  \n",
    "\"\"\""
   ]
  }
 ],
 "metadata": {
  "kernelspec": {
   "display_name": "Python 3",
   "language": "python",
   "name": "python3"
  },
  "language_info": {
   "codemirror_mode": {
    "name": "ipython",
    "version": 3
   },
   "file_extension": ".py",
   "mimetype": "text/x-python",
   "name": "python",
   "nbconvert_exporter": "python",
   "pygments_lexer": "ipython3",
   "version": "3.13.6"
  }
 },
 "nbformat": 4,
 "nbformat_minor": 5
}
